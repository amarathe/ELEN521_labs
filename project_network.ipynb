{
  "nbformat": 4,
  "nbformat_minor": 0,
  "metadata": {
    "kernelspec": {
      "name": "python3",
      "display_name": "Python 3"
    },
    "language_info": {
      "codemirror_mode": {
        "name": "ipython",
        "version": 3
      },
      "file_extension": ".py",
      "mimetype": "text/x-python",
      "name": "python",
      "nbconvert_exporter": "python",
      "pygments_lexer": "ipython3",
      "version": "3.6.10"
    },
    "colab": {
      "name": "project_network.ipynb",
      "provenance": [],
      "collapsed_sections": [],
      "include_colab_link": true
    },
    "accelerator": "GPU"
  },
  "cells": [
    {
      "cell_type": "markdown",
      "metadata": {
        "id": "view-in-github",
        "colab_type": "text"
      },
      "source": [
        "<a href=\"https://colab.research.google.com/github/amarathe/ELEN521_labs/blob/master/project_network.ipynb\" target=\"_parent\"><img src=\"https://colab.research.google.com/assets/colab-badge.svg\" alt=\"Open In Colab\"/></a>"
      ]
    },
    {
      "cell_type": "markdown",
      "metadata": {
        "id": "PLOdTLE7y9_X",
        "colab_type": "text"
      },
      "source": [
        "# Project: Retinal OCT Images recognition\n",
        "# Sharanjeet Singh, Ashwin Marathe\n",
        "Classify images of retina\n",
        "4 categories: \n",
        "    CNV - Choroidal neovascularization\n",
        "    DME -  Diabetic macular edema \n",
        "    DRUSEN - Multiple drusen\n",
        "    NORMAL - Normal retina\n",
        "\n",
        "84,000 images in dataset\n",
        "    \n",
        "https://www.kaggle.com/paultimothymooney/kermany2018/data#CNV-1016042-2.jpeg"
      ]
    },
    {
      "cell_type": "code",
      "metadata": {
        "id": "5gFuv9iV1ttb",
        "colab_type": "code",
        "outputId": "2d0308ba-99d0-41dc-9ded-035c2dfab236",
        "colab": {
          "resources": {
            "http://localhost:8080/nbextensions/google.colab/files.js": {
              "data": "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",
              "ok": true,
              "headers": [
                [
                  "content-type",
                  "application/javascript"
                ]
              ],
              "status": 200,
              "status_text": ""
            }
          },
          "base_uri": "https://localhost:8080/",
          "height": 253
        }
      },
      "source": [
        "from keras.layers import *\n",
        "from keras.models import Model\n",
        "from keras.optimizers import *\n",
        "from keras.preprocessing.image import ImageDataGenerator\n",
        "from IPython.display import Image\n",
        "import pandas as pd\n",
        "import os.path\n",
        "from os import path\n",
        "import glob, os\n",
        "import random\n",
        "\n",
        "BATCHSIZE = 64\n",
        "NSAMPLES = 75000\n",
        "\n",
        "#Instructions for getting dataset from kaggle:\n",
        "# https://medium.com/@saedhussain/google-colaboratory-and-kaggle-datasets-b57a83eb6ef8\n",
        "from google.colab import files\n",
        "!pip install -q kaggle\n",
        "#Upload your kaggle.json API file\n",
        "\n",
        "if not path.exists(\"/root/.kaggle/kaggle.json\"): \n",
        "  firsttime = True\n",
        "  uploaded = files.upload()\n",
        "  !mkdir ~/.kaggle\n",
        "  !mv kaggle.json ~/.kaggle/kaggle.json\n",
        "  !ls -halt ~/.kaggle\n",
        "  !chmod 600 ~/.kaggle/kaggle.json\n",
        "\n",
        "\n",
        "!kaggle datasets download -d paultimothymooney/kermany2018\n",
        "\n",
        "\n",
        "\n",
        "\n"
      ],
      "execution_count": 1,
      "outputs": [
        {
          "output_type": "stream",
          "text": [
            "Using TensorFlow backend.\n"
          ],
          "name": "stderr"
        },
        {
          "output_type": "display_data",
          "data": {
            "text/html": [
              "<p style=\"color: red;\">\n",
              "The default version of TensorFlow in Colab will soon switch to TensorFlow 2.x.<br>\n",
              "We recommend you <a href=\"https://www.tensorflow.org/guide/migrate\" target=\"_blank\">upgrade</a> now \n",
              "or ensure your notebook will continue to use TensorFlow 1.x via the <code>%tensorflow_version 1.x</code> magic:\n",
              "<a href=\"https://colab.research.google.com/notebooks/tensorflow_version.ipynb\" target=\"_blank\">more info</a>.</p>\n"
            ],
            "text/plain": [
              "<IPython.core.display.HTML object>"
            ]
          },
          "metadata": {
            "tags": []
          }
        },
        {
          "output_type": "display_data",
          "data": {
            "text/html": [
              "\n",
              "     <input type=\"file\" id=\"files-aa6c5ab4-1c4f-445f-9a02-15625dbe00e8\" name=\"files[]\" multiple disabled />\n",
              "     <output id=\"result-aa6c5ab4-1c4f-445f-9a02-15625dbe00e8\">\n",
              "      Upload widget is only available when the cell has been executed in the\n",
              "      current browser session. Please rerun this cell to enable.\n",
              "      </output>\n",
              "      <script src=\"/nbextensions/google.colab/files.js\"></script> "
            ],
            "text/plain": [
              "<IPython.core.display.HTML object>"
            ]
          },
          "metadata": {
            "tags": []
          }
        },
        {
          "output_type": "stream",
          "text": [
            "Saving kaggle.json to kaggle.json\n",
            "total 16K\n",
            "drwxr-xr-x 2 root root 4.0K Mar 18 23:36 .\n",
            "drwx------ 1 root root 4.0K Mar 18 23:36 ..\n",
            "-rw-r--r-- 1 root root   64 Mar 18 23:36 kaggle.json\n",
            "Downloading kermany2018.zip to /content\n",
            "100% 10.8G/10.8G [04:23<00:00, 71.6MB/s]\n",
            "100% 10.8G/10.8G [04:23<00:00, 44.2MB/s]\n"
          ],
          "name": "stdout"
        }
      ]
    },
    {
      "cell_type": "code",
      "metadata": {
        "id": "x4ltEwb6y9_a",
        "colab_type": "code",
        "colab": {}
      },
      "source": [
        "%matplotlib inline\n",
        "\n",
        "\n",
        "import zipfile\n",
        "if not path.exists(\"kermany2018\"):\n",
        "  with zipfile.ZipFile(\"kermany2018.zip\",\"r\") as zip_ref:\n",
        "    zip_ref.extractall(\"kermany2018\")\n",
        "\n",
        "#!ls kermany2018/OCT2017\\ /train/CNV/ | more\n",
        "#If first time, partition 5% validation data from training data\n",
        "if firsttime:\n",
        "  os.system(\"mv kermany2018/OCT2017\\ /val/ kermany2018/OCT2017\\ /backup_val/\" )\n",
        "  os.system(\"mkdir kermany2018/OCT2017\\ /val\")\n",
        "  for label in [\"CNV\", \"DME\", \"DRUSEN\", \"NORMAL\"]:\n",
        "    files = list(glob.glob(\"kermany2018/OCT2017 /train/\" + label + \"/*.jpeg\"))\n",
        "    random.shuffle(files)\n",
        "    #print (\"glob:\", glob.glob(\"kermany2018/OCT2017 /train/\" + label + \"/*.jpeg\"))\n",
        "    #print (\"files:\", files)\n",
        "    train_files, val_files = files[:int(len(files)*0.95)], files[int(len(files)*0.95):]\n",
        "    os.system(\"mkdir kermany2018/OCT2017\\ /val/\"+label+\"/\")\n",
        "    for file in val_files:\n",
        "      #print (\"Moving file:\", file, \"to: kermany2018/OCT2017\\ /val/\" + label + \"/\")\n",
        "      os.system(\"mv \" + file.replace(\" \", \"\\ \") + \" kermany2018/OCT2017\\ /val/\" + label + \"/\")\n",
        "  firsttime = False\n",
        "\n",
        "#!ls \"kermany2018/OCT2017 \"\n",
        "train_datagen = ImageDataGenerator(rescale=1./256)\n",
        "#valid_datagen = ImageDataGenerator(rescale=1./256)\n",
        "test_datagen = ImageDataGenerator(rescale=1./256)\n",
        "\n",
        "\n"
      ],
      "execution_count": 0,
      "outputs": []
    },
    {
      "cell_type": "code",
      "metadata": {
        "id": "jUwmDxJgMN6M",
        "colab_type": "code",
        "outputId": "a0399261-b692-4044-fbc9-25c02065bb75",
        "colab": {
          "base_uri": "https://localhost:8080/",
          "height": 68
        }
      },
      "source": [
        "pixels = 128\n",
        "\n",
        "# load and iterate training dataset\n",
        "train_generator = train_datagen.flow_from_directory('kermany2018/OCT2017 /train/', class_mode='categorical', \n",
        "                                             target_size=(pixels,pixels), batch_size=BATCHSIZE)\n",
        "\n",
        "#Only 32 images in validation dataset - too small. Use test train split from train dataset\n",
        "# load and iterate validation dataset\n",
        "#valid_generator = valid_datagen.flow_from_directory('kermany2018/OCT2017 /val/', class_mode='categorical', \n",
        "#                                           target_size=(512,512), batch_size=BATCHSIZE)\n",
        "valid_generator = train_datagen.flow_from_directory('kermany2018/OCT2017 /val/', class_mode='categorical', \n",
        "                                             target_size=(pixels,pixels), batch_size=BATCHSIZE)\n",
        "# load and iterate test dataset\n",
        "test_generator = test_datagen.flow_from_directory('kermany2018/OCT2017 /test/', class_mode='categorical', \n",
        "                                           target_size=(pixels,pixels), batch_size=BATCHSIZE)\n",
        "\n",
        "#traindf = pd.read_csv('kermany2018.zip')"
      ],
      "execution_count": 68,
      "outputs": [
        {
          "output_type": "stream",
          "text": [
            "Found 79308 images belonging to 4 classes.\n",
            "Found 4176 images belonging to 4 classes.\n",
            "Found 968 images belonging to 4 classes.\n"
          ],
          "name": "stdout"
        }
      ]
    },
    {
      "cell_type": "code",
      "metadata": {
        "id": "_liWkEaJ_V-a",
        "colab_type": "code",
        "outputId": "29f9e0a1-e7ec-4b33-d99b-51f0113215c5",
        "colab": {
          "base_uri": "https://localhost:8080/",
          "height": 51
        }
      },
      "source": [
        "!ls kermany2018/OCT2017\\ /val/NORMAL/ | wc -l\n",
        "!ls kermany2018/OCT2017\\ /train/NORMAL/ | wc -l\n"
      ],
      "execution_count": 69,
      "outputs": [
        {
          "output_type": "stream",
          "text": [
            "1316\n",
            "24999\n"
          ],
          "name": "stdout"
        }
      ]
    },
    {
      "cell_type": "code",
      "metadata": {
        "id": "kVnRUYV88Lrn",
        "colab_type": "code",
        "colab": {}
      },
      "source": [
        "#for label in [\"CNV\", \"DME\", \"DRUSEN\", \"NORMAL\"]:\n",
        "\n",
        "#  files = list(glob.glob(\"kermany2018/OCT2017 /train/\" + label + \"/*.jpeg\"))\n",
        "#  random.shuffle(files)\n",
        "#  #print (\"glob:\", glob.glob(\"kermany2018/OCT2017 /train/\" + label + \"/*.jpeg\"))\n",
        "#  #print (\"files:\", files)\n",
        "#  train_files, val_files = files[:int(len(files)*0.95)], files[int(len(files)*0.95):]\n",
        "#  os.system(\"mkdir kermany2018/OCT2017\\ /val/\"+label+\"/\")\n",
        "#  for file in val_files:\n",
        "#    print (\"Moving file:\", file, \"to: kermany2018/OCT2017\\ /val/\" + label + \"/\")\n",
        "#    os.system(\"mv \" + file.replace(\" \", \"\\ \") + \" kermany2018/OCT2017\\ /val/\" + label + \"/\")"
      ],
      "execution_count": 0,
      "outputs": []
    },
    {
      "cell_type": "code",
      "metadata": {
        "id": "vSL42fIxISIa",
        "colab_type": "code",
        "colab": {}
      },
      "source": [
        "#Returns model and model before last activation (for debug)\n",
        "def get_model():\n",
        "    x = x_in = Input((pixels,pixels,3), name=\"input\")\n",
        "    x = Conv2D(8, (3,3), padding=\"same\",  name=\"fe0\")(x)\n",
        "    x = Activation(\"relu\", name=\"r0\")(x)\n",
        "    x = MaxPooling2D(2,2,name=\"mp0\")(x)\n",
        "    x = BatchNormalization(name=\"bn1\")(x)\n",
        "    x = Conv2D(16, (3,3), padding=\"same\", name=\"fe1\")(x)\n",
        "    x = Activation(\"relu\", name=\"r1\")(x)\n",
        " #   x = MaxPooling2D(2,2,name=\"mp1\")(x)\n",
        "    x = BatchNormalization(name=\"bn2\")(x)\n",
        "    x = Conv2D(16, (3,3), padding=\"same\", name=\"fe2\")(x)\n",
        "    x = Activation(\"relu\", name=\"r2\")(x)\n",
        "    x = MaxPooling2D(2,2,name=\"mp2\")(x)\n",
        "    x = BatchNormalization(name=\"bn3\")(x)\n",
        "    x = Conv2D(32, (3,3), padding=\"same\", name=\"fe3\")(x)\n",
        "    x = Activation(\"relu\", name=\"r3\")(x)\n",
        "    x = BatchNormalization(name=\"bn4\")(x)\n",
        "    x = Conv2D(32, (3,3), padding=\"same\", name=\"fe4\")(x)\n",
        "    x = Activation(\"relu\", name=\"r4\")(x)\n",
        "    x = MaxPooling2D(2,2,name=\"mp3\")(x)   \n",
        "    x = Dropout(0.5, name=\"d0\")(x)\n",
        "    x = Flatten(name=\"fl\")(x)\n",
        "    #x = Dense(64, name=\"d0\", activation=\"relu\")(x)\n",
        "    x = Dense(4, name=\"d1\")(x)\n",
        "    x = x_int = Activation(\"softmax\", name=\"s1\")(x)\n",
        "    m = Model(inputs=x_in, outputs=x)\n",
        "    m_int = Model(inputs=x_in, outputs=x_int)\n",
        "    m.summary()\n",
        "    return m, m_int\n"
      ],
      "execution_count": 0,
      "outputs": []
    },
    {
      "cell_type": "code",
      "metadata": {
        "id": "Nle43bsmJxdR",
        "colab_type": "code",
        "outputId": "749c7b3e-0e47-4644-d35b-d5451c50211d",
        "colab": {
          "base_uri": "https://localhost:8080/",
          "height": 1000
        }
      },
      "source": [
        "model, model_int = get_model()\n",
        "adam = Adam(lr=0.0001)\n",
        "model.compile(loss=\"categorical_crossentropy\", optimizer=adam, metrics=[\"acc\"])\n",
        "\n",
        "result = model.evaluate_generator(test_generator)\n",
        "print (\"Test results with random weights - should be 25%: Accuracy\", result[1])\n",
        "print (\"\\t Loss:\", result[0])\n",
        "\n",
        "NUM_EPOCHS = 20\n",
        "\n",
        "history = model.fit_generator(\n",
        "    train_generator,\n",
        "    steps_per_epoch=NSAMPLES//BATCHSIZE, # number of times it executes until it declares epoch is over.\n",
        "    epochs=NUM_EPOCHS,\n",
        "    validation_data=valid_generator,\n",
        "    validation_steps=NSAMPLES//(4*BATCHSIZE))"
      ],
      "execution_count": 72,
      "outputs": [
        {
          "output_type": "stream",
          "text": [
            "Model: \"model_9\"\n",
            "_________________________________________________________________\n",
            "Layer (type)                 Output Shape              Param #   \n",
            "=================================================================\n",
            "input (InputLayer)           (None, 128, 128, 3)       0         \n",
            "_________________________________________________________________\n",
            "fe0 (Conv2D)                 (None, 128, 128, 8)       224       \n",
            "_________________________________________________________________\n",
            "r0 (Activation)              (None, 128, 128, 8)       0         \n",
            "_________________________________________________________________\n",
            "mp0 (MaxPooling2D)           (None, 64, 64, 8)         0         \n",
            "_________________________________________________________________\n",
            "bn1 (BatchNormalization)     (None, 64, 64, 8)         32        \n",
            "_________________________________________________________________\n",
            "fe1 (Conv2D)                 (None, 64, 64, 16)        1168      \n",
            "_________________________________________________________________\n",
            "r1 (Activation)              (None, 64, 64, 16)        0         \n",
            "_________________________________________________________________\n",
            "bn2 (BatchNormalization)     (None, 64, 64, 16)        64        \n",
            "_________________________________________________________________\n",
            "fe2 (Conv2D)                 (None, 64, 64, 16)        2320      \n",
            "_________________________________________________________________\n",
            "r2 (Activation)              (None, 64, 64, 16)        0         \n",
            "_________________________________________________________________\n",
            "mp2 (MaxPooling2D)           (None, 32, 32, 16)        0         \n",
            "_________________________________________________________________\n",
            "bn3 (BatchNormalization)     (None, 32, 32, 16)        64        \n",
            "_________________________________________________________________\n",
            "fe3 (Conv2D)                 (None, 32, 32, 32)        4640      \n",
            "_________________________________________________________________\n",
            "r3 (Activation)              (None, 32, 32, 32)        0         \n",
            "_________________________________________________________________\n",
            "bn4 (BatchNormalization)     (None, 32, 32, 32)        128       \n",
            "_________________________________________________________________\n",
            "fe4 (Conv2D)                 (None, 32, 32, 32)        9248      \n",
            "_________________________________________________________________\n",
            "r4 (Activation)              (None, 32, 32, 32)        0         \n",
            "_________________________________________________________________\n",
            "mp3 (MaxPooling2D)           (None, 16, 16, 32)        0         \n",
            "_________________________________________________________________\n",
            "d0 (Dropout)                 (None, 16, 16, 32)        0         \n",
            "_________________________________________________________________\n",
            "fl (Flatten)                 (None, 8192)              0         \n",
            "_________________________________________________________________\n",
            "d1 (Dense)                   (None, 4)                 32772     \n",
            "_________________________________________________________________\n",
            "s1 (Activation)              (None, 4)                 0         \n",
            "=================================================================\n",
            "Total params: 50,660\n",
            "Trainable params: 50,516\n",
            "Non-trainable params: 144\n",
            "_________________________________________________________________\n",
            "Test results with random weights - should be 25%: Accuracy 0.29958677685950413\n",
            "\t Loss: 1.3848881219044205\n",
            "Epoch 1/20\n",
            "156/156 [==============================] - 43s 273ms/step - loss: 1.7349 - acc: 0.3985 - val_loss: 1.2750 - val_acc: 0.5361\n",
            "Epoch 2/20\n",
            "156/156 [==============================] - 39s 248ms/step - loss: 1.4260 - acc: 0.4660 - val_loss: 1.0543 - val_acc: 0.5903\n",
            "Epoch 3/20\n",
            "156/156 [==============================] - 39s 250ms/step - loss: 1.1461 - acc: 0.5737 - val_loss: 0.9010 - val_acc: 0.6735\n",
            "Epoch 4/20\n",
            "156/156 [==============================] - 39s 251ms/step - loss: 0.9813 - acc: 0.6410 - val_loss: 0.7940 - val_acc: 0.7047\n",
            "Epoch 5/20\n",
            "156/156 [==============================] - 40s 254ms/step - loss: 0.8631 - acc: 0.6773 - val_loss: 0.7398 - val_acc: 0.7188\n",
            "Epoch 6/20\n",
            "156/156 [==============================] - 41s 264ms/step - loss: 0.8186 - acc: 0.6983 - val_loss: 0.6964 - val_acc: 0.7386\n",
            "Epoch 7/20\n",
            "156/156 [==============================] - 42s 271ms/step - loss: 0.7636 - acc: 0.7175 - val_loss: 0.7323 - val_acc: 0.7226\n",
            "Epoch 8/20\n",
            "156/156 [==============================] - 43s 276ms/step - loss: 0.7282 - acc: 0.7273 - val_loss: 0.6525 - val_acc: 0.7628\n",
            "Epoch 9/20\n",
            "156/156 [==============================] - 36s 229ms/step - loss: 0.7075 - acc: 0.7336 - val_loss: 0.6275 - val_acc: 0.7643\n",
            "Epoch 10/20\n",
            "156/156 [==============================] - 36s 232ms/step - loss: 0.6740 - acc: 0.7436 - val_loss: 0.5970 - val_acc: 0.7768\n",
            "Epoch 11/20\n",
            "156/156 [==============================] - 37s 236ms/step - loss: 0.6354 - acc: 0.7659 - val_loss: 0.5970 - val_acc: 0.7770\n",
            "Epoch 12/20\n",
            "156/156 [==============================] - 36s 234ms/step - loss: 0.6204 - acc: 0.7709 - val_loss: 0.5938 - val_acc: 0.7810\n",
            "Epoch 13/20\n",
            "156/156 [==============================] - 37s 235ms/step - loss: 0.6046 - acc: 0.7737 - val_loss: 0.5475 - val_acc: 0.8029\n",
            "Epoch 14/20\n",
            "156/156 [==============================] - 36s 232ms/step - loss: 0.6004 - acc: 0.7790 - val_loss: 0.5626 - val_acc: 0.7876\n",
            "Epoch 15/20\n",
            "156/156 [==============================] - 37s 239ms/step - loss: 0.5834 - acc: 0.7874 - val_loss: 0.5462 - val_acc: 0.7977\n",
            "Epoch 16/20\n",
            "156/156 [==============================] - 40s 255ms/step - loss: 0.5752 - acc: 0.7861 - val_loss: 0.5679 - val_acc: 0.7908\n",
            "Epoch 17/20\n",
            "156/156 [==============================] - 35s 223ms/step - loss: 0.5469 - acc: 0.7990 - val_loss: 0.5142 - val_acc: 0.8154\n",
            "Epoch 18/20\n",
            "156/156 [==============================] - 34s 221ms/step - loss: 0.5463 - acc: 0.8009 - val_loss: 0.5637 - val_acc: 0.7977\n",
            "Epoch 19/20\n",
            "156/156 [==============================] - 35s 222ms/step - loss: 0.5281 - acc: 0.8086 - val_loss: 0.5159 - val_acc: 0.8072\n",
            "Epoch 20/20\n",
            "156/156 [==============================] - 35s 223ms/step - loss: 0.5290 - acc: 0.8055 - val_loss: 0.4974 - val_acc: 0.8189\n"
          ],
          "name": "stdout"
        }
      ]
    },
    {
      "cell_type": "code",
      "metadata": {
        "id": "bS2fCNFMUy1C",
        "colab_type": "code",
        "outputId": "40900f22-add7-4c9b-cfb8-2888b27e8dd5",
        "colab": {
          "base_uri": "https://localhost:8080/",
          "height": 51
        }
      },
      "source": [
        "#for data_batch, labels_batch in train_generator:\n",
        "#  prediction = model.predict(data_batch)\n",
        "#  print (\"Prediction:\", prediction)\n",
        "#  print (\"labels:\", labels_batch)\n",
        "#  break\n",
        "\n",
        "result = model.evaluate_generator(test_generator)\n",
        "print (\"Test results: Accuracy\", result[1])\n",
        "print (\"\\t Loss:\", result[0])\n"
      ],
      "execution_count": 73,
      "outputs": [
        {
          "output_type": "stream",
          "text": [
            "Test results: Accuracy 0.6952479338842975\n",
            "\t Loss: 0.6988021549114511\n"
          ],
          "name": "stdout"
        }
      ]
    },
    {
      "cell_type": "code",
      "metadata": {
        "id": "LQ0m1WOn8oBH",
        "colab_type": "code",
        "colab": {}
      },
      "source": [
        "import matplotlib.pyplot as plt\n",
        "def plothistory(history):\n",
        "  # Plot training & validation accuracy values\n",
        "  plt.plot(history.history['acc'])\n",
        "  plt.plot(history.history['val_acc'])\n",
        "  plt.title('Model accuracy')\n",
        "  plt.ylabel('Accuracy')\n",
        "  plt.xlabel('Epoch')\n",
        "  plt.legend(['Train', 'Val'], loc='upper left')\n",
        "  plt.show()\n",
        "\n",
        "# Plot training & validation loss values\n",
        "  plt.plot(history.history['loss'])\n",
        "  plt.plot(history.history['val_loss'])\n",
        "  plt.title('Model loss')\n",
        "  plt.ylabel('Loss')\n",
        "  plt.xlabel('Epoch')\n",
        "  plt.legend(['Train', 'Val'], loc='upper left')\n",
        "  plt.show()"
      ],
      "execution_count": 0,
      "outputs": []
    },
    {
      "cell_type": "code",
      "metadata": {
        "id": "Uctlqo0P8szr",
        "colab_type": "code",
        "outputId": "b48fb475-17f2-42a1-a1ac-5ce1db288479",
        "colab": {
          "base_uri": "https://localhost:8080/",
          "height": 573
        }
      },
      "source": [
        "plothistory(history)"
      ],
      "execution_count": 75,
      "outputs": [
        {
          "output_type": "display_data",
          "data": {
            "image/png": "[encoded data removed]",
            "text/plain": [
              "<Figure size 432x288 with 1 Axes>"
            ]
          },
          "metadata": {
            "tags": []
          }
        },
        {
          "output_type": "display_data",
          "data": {
            "image/png": "[encoded data removed]",
            "text/plain": [
              "<Figure size 432x288 with 1 Axes>"
            ]
          },
          "metadata": {
            "tags": []
          }
        }
      ]
    },
    {
      "cell_type": "markdown",
      "metadata": {
        "id": "BcwrSHX4y9_g",
        "colab_type": "text"
      },
      "source": [
        "Use VGG16 and train last layer"
      ]
    },
    {
      "cell_type": "code",
      "metadata": {
        "id": "WJk6rex0bvq7",
        "colab_type": "code",
        "outputId": "422ba9b3-4d41-432a-8f86-946a859610c1",
        "colab": {
          "base_uri": "https://localhost:8080/",
          "height": 68
        }
      },
      "source": [
        "pixels = 128\n",
        "\n",
        "# load and iterate training dataset\n",
        "train_generator = train_datagen.flow_from_directory('kermany2018/OCT2017 /train/', class_mode='categorical', \n",
        "                                             target_size=(pixels,pixels), batch_size=BATCHSIZE)\n",
        "\n",
        "#Only 32 images in validation dataset - too small. Use test train split from train dataset\n",
        "# load and iterate validation dataset\n",
        "#valid_generator = valid_datagen.flow_from_directory('kermany2018/OCT2017 /val/', class_mode='categorical', \n",
        "#                                           target_size=(512,512), batch_size=BATCHSIZE)\n",
        "valid_generator = train_datagen.flow_from_directory('kermany2018/OCT2017 /val/', class_mode='categorical', \n",
        "                                             target_size=(pixels,pixels), batch_size=BATCHSIZE)\n",
        "# load and iterate test dataset\n",
        "test_generator = test_datagen.flow_from_directory('kermany2018/OCT2017 /test/', class_mode='categorical', \n",
        "                                           target_size=(pixels,pixels), batch_size=BATCHSIZE)"
      ],
      "execution_count": 76,
      "outputs": [
        {
          "output_type": "stream",
          "text": [
            "Found 79308 images belonging to 4 classes.\n",
            "Found 4176 images belonging to 4 classes.\n",
            "Found 968 images belonging to 4 classes.\n"
          ],
          "name": "stdout"
        }
      ]
    },
    {
      "cell_type": "code",
      "metadata": {
        "id": "8BNh7S7My-AO",
        "colab_type": "code",
        "outputId": "fff18337-d6a0-4b4d-a402-396cf1ade01a",
        "colab": {
          "base_uri": "https://localhost:8080/",
          "height": 1000
        }
      },
      "source": [
        "from keras.applications import VGG16\n",
        "\n",
        "vgg16 = VGG16(weights=\"imagenet\", include_top=False, input_shape=(150, 150, 3))\n",
        "vgg16.summary()\n",
        "\n",
        "for layer in vgg16.layers[:-4]:\n",
        "  layer.trainable=False\n",
        "\n",
        "for layer in vgg16.layers:\n",
        "  print (layer, layer.trainable)\n",
        "\n",
        "#x_i = Input((150, 150, 3), name=\"input\")\n",
        "x_i = Input((pixels,pixels,3), name=\"input\")\n",
        "x = vgg16(x_i)\n",
        "x = Flatten(name=\"fl\")(x)\n",
        "x = Dropout(0.5, name=\"d5\")(x)\n",
        "x = Dense(64, name=\"d1\", activation=\"relu\")(x)\n",
        "x = Dense(4, name=\"d2\", activation=\"softmax\")(x)\n",
        "\n",
        "model = Model(inputs=x_i, outputs=x)\n",
        "model.summary()\n",
        "\n",
        "adam = Adam(lr=0.0001)\n",
        "\n",
        "model.compile(loss=\"binary_crossentropy\", optimizer=adam, metrics=[\"acc\"])\n",
        "\n",
        "NSAMPLES = 10000\n",
        "NUM_EPOCHS=5\n",
        "\n",
        "history = model.fit_generator(\n",
        "    train_generator,\n",
        "    steps_per_epoch=NSAMPLES//100, # number of times it executes until it declares epoch is over.\n",
        "    epochs=NUM_EPOCHS,\n",
        "    validation_data=valid_generator,\n",
        "    validation_steps=NSAMPLES//(2*100))"
      ],
      "execution_count": 62,
      "outputs": [
        {
          "output_type": "stream",
          "text": [
            "Model: \"vgg16\"\n",
            "_________________________________________________________________\n",
            "Layer (type)                 Output Shape              Param #   \n",
            "=================================================================\n",
            "input_7 (InputLayer)         (None, 150, 150, 3)       0         \n",
            "_________________________________________________________________\n",
            "block1_conv1 (Conv2D)        (None, 150, 150, 64)      1792      \n",
            "_________________________________________________________________\n",
            "block1_conv2 (Conv2D)        (None, 150, 150, 64)      36928     \n",
            "_________________________________________________________________\n",
            "block1_pool (MaxPooling2D)   (None, 75, 75, 64)        0         \n",
            "_________________________________________________________________\n",
            "block2_conv1 (Conv2D)        (None, 75, 75, 128)       73856     \n",
            "_________________________________________________________________\n",
            "block2_conv2 (Conv2D)        (None, 75, 75, 128)       147584    \n",
            "_________________________________________________________________\n",
            "block2_pool (MaxPooling2D)   (None, 37, 37, 128)       0         \n",
            "_________________________________________________________________\n",
            "block3_conv1 (Conv2D)        (None, 37, 37, 256)       295168    \n",
            "_________________________________________________________________\n",
            "block3_conv2 (Conv2D)        (None, 37, 37, 256)       590080    \n",
            "_________________________________________________________________\n",
            "block3_conv3 (Conv2D)        (None, 37, 37, 256)       590080    \n",
            "_________________________________________________________________\n",
            "block3_pool (MaxPooling2D)   (None, 18, 18, 256)       0         \n",
            "_________________________________________________________________\n",
            "block4_conv1 (Conv2D)        (None, 18, 18, 512)       1180160   \n",
            "_________________________________________________________________\n",
            "block4_conv2 (Conv2D)        (None, 18, 18, 512)       2359808   \n",
            "_________________________________________________________________\n",
            "block4_conv3 (Conv2D)        (None, 18, 18, 512)       2359808   \n",
            "_________________________________________________________________\n",
            "block4_pool (MaxPooling2D)   (None, 9, 9, 512)         0         \n",
            "_________________________________________________________________\n",
            "block5_conv1 (Conv2D)        (None, 9, 9, 512)         2359808   \n",
            "_________________________________________________________________\n",
            "block5_conv2 (Conv2D)        (None, 9, 9, 512)         2359808   \n",
            "_________________________________________________________________\n",
            "block5_conv3 (Conv2D)        (None, 9, 9, 512)         2359808   \n",
            "_________________________________________________________________\n",
            "block5_pool (MaxPooling2D)   (None, 4, 4, 512)         0         \n",
            "=================================================================\n",
            "Total params: 14,714,688\n",
            "Trainable params: 14,714,688\n",
            "Non-trainable params: 0\n",
            "_________________________________________________________________\n",
            "<keras.engine.input_layer.InputLayer object at 0x7fe6f8b22f28> False\n",
            "<keras.layers.convolutional.Conv2D object at 0x7fe6fb6df278> False\n",
            "<keras.layers.convolutional.Conv2D object at 0x7fe6f8b1b198> False\n",
            "<keras.layers.pooling.MaxPooling2D object at 0x7fe6f8b1bda0> False\n",
            "<keras.layers.convolutional.Conv2D object at 0x7fe6fb6f5c50> False\n",
            "<keras.layers.convolutional.Conv2D object at 0x7fe6facf94a8> False\n",
            "<keras.layers.pooling.MaxPooling2D object at 0x7fe6facfd208> False\n",
            "<keras.layers.convolutional.Conv2D object at 0x7fe6f8b1c940> False\n",
            "<keras.layers.convolutional.Conv2D object at 0x7fe6f8b20a58> False\n",
            "<keras.layers.convolutional.Conv2D object at 0x7fe6f8b217b8> False\n",
            "<keras.layers.pooling.MaxPooling2D object at 0x7fe6fa3fa240> False\n",
            "<keras.layers.convolutional.Conv2D object at 0x7fe6fa401860> False\n",
            "<keras.layers.convolutional.Conv2D object at 0x7fe6fa40c978> False\n",
            "<keras.layers.convolutional.Conv2D object at 0x7fe6fa4136d8> False\n",
            "<keras.layers.pooling.MaxPooling2D object at 0x7fe6fa4250b8> False\n",
            "<keras.layers.convolutional.Conv2D object at 0x7fe6fa42c6d8> True\n",
            "<keras.layers.convolutional.Conv2D object at 0x7fe6fa3c7860> True\n",
            "<keras.layers.convolutional.Conv2D object at 0x7fe6fa3ba5c0> True\n",
            "<keras.layers.pooling.MaxPooling2D object at 0x7fe6fa3cd5c0> True\n",
            "Model: \"model_8\"\n",
            "_________________________________________________________________\n",
            "Layer (type)                 Output Shape              Param #   \n",
            "=================================================================\n",
            "input (InputLayer)           (None, 128, 128, 3)       0         \n",
            "_________________________________________________________________\n",
            "vgg16 (Model)                (None, 4, 4, 512)         14714688  \n",
            "_________________________________________________________________\n",
            "fl (Flatten)                 (None, 8192)              0         \n",
            "_________________________________________________________________\n",
            "d5 (Dropout)                 (None, 8192)              0         \n",
            "_________________________________________________________________\n",
            "d1 (Dense)                   (None, 64)                524352    \n",
            "_________________________________________________________________\n",
            "d2 (Dense)                   (None, 4)                 260       \n",
            "=================================================================\n",
            "Total params: 15,239,300\n",
            "Trainable params: 7,604,036\n",
            "Non-trainable params: 7,635,264\n",
            "_________________________________________________________________\n",
            "Epoch 1/5\n",
            "100/100 [==============================] - 37s 371ms/step - loss: 0.2974 - acc: 0.8763 - val_loss: 0.1931 - val_acc: 0.9219\n",
            "Epoch 2/5\n",
            "100/100 [==============================] - 33s 334ms/step - loss: 0.2037 - acc: 0.9200 - val_loss: 0.1647 - val_acc: 0.9386\n",
            "Epoch 3/5\n",
            "100/100 [==============================] - 33s 332ms/step - loss: 0.1736 - acc: 0.9337 - val_loss: 0.1564 - val_acc: 0.9420\n",
            "Epoch 4/5\n",
            "100/100 [==============================] - 34s 339ms/step - loss: 0.1564 - acc: 0.9396 - val_loss: 0.1576 - val_acc: 0.9410\n",
            "Epoch 5/5\n",
            "100/100 [==============================] - 34s 337ms/step - loss: 0.1485 - acc: 0.9452 - val_loss: 0.1443 - val_acc: 0.9444\n"
          ],
          "name": "stdout"
        }
      ]
    },
    {
      "cell_type": "code",
      "metadata": {
        "id": "So8DalNPZQ5g",
        "colab_type": "code",
        "outputId": "58a1b0fd-a911-403d-b3a9-7e3d488ec260",
        "colab": {
          "base_uri": "https://localhost:8080/",
          "height": 51
        }
      },
      "source": [
        "result = model.evaluate_generator(test_generator)\n",
        "print (\"Test results: Accuracy\", result[1])\n",
        "print (\"\\t Loss:\", result[0])"
      ],
      "execution_count": 65,
      "outputs": [
        {
          "output_type": "stream",
          "text": [
            "Test results: Accuracy 0.9759814049586777\n",
            "\t Loss: 0.08266070232657362\n"
          ],
          "name": "stdout"
        }
      ]
    },
    {
      "cell_type": "code",
      "metadata": {
        "id": "dNp_GzlJU5W9",
        "colab_type": "code",
        "colab": {
          "base_uri": "https://localhost:8080/",
          "height": 604
        },
        "outputId": "1d323ed9-adcb-45e8-e0e8-52b804e08207"
      },
      "source": [
        "import numpy as np\n",
        "import sklearn\n",
        "from sklearn.metrics import classification_report, confusion_matrix\n",
        "import itertools\n",
        "\n",
        "#Get Precision, recall, F1 score\n",
        "num2losses = {0: \"CNV\", 1: \"DME\", 2: \"DRUSEN\", 3: \"NORMAL\"}\n",
        "\n",
        "#Get test/train data from generator\n",
        "xtest, ytest = [],[]\n",
        "max_iter = 2000\n",
        "i = 0\n",
        "for x, y in test_generator:\n",
        "    for j in range(x.shape[0]):\n",
        "      xtest.append(x[j])\n",
        "      ytest.append(y[j])\n",
        "      i += 1\n",
        "    if i >= max_iter:\n",
        "        break\n",
        "\n",
        "xtest = np.array(xtest)\n",
        "ytest = np.array(ytest)\n",
        "print (\"x shape:\", xtest.shape)\n",
        "print (\"y shape:\", ytest.shape)\n",
        "\n",
        "# From https://www.kaggle.com/chestnut111/new-vgg-model-transfer-for-retina-oct-data-0-96\n",
        "def plot_confusion_matrix(cm, classes,\n",
        "                          normalize=False,\n",
        "                          title='Confusion matrix',\n",
        "                          cmap=plt.cm.Blues):\n",
        "    \"\"\"\n",
        "    This function prints and plots the confusion matrix.\n",
        "    Normalization can be applied by setting `normalize=True`.\n",
        "    \"\"\"\n",
        "    plt.figure(figsize = (5,5))\n",
        "    plt.imshow(cm, interpolation='nearest', cmap=cmap)\n",
        "    plt.title(title)\n",
        "    plt.colorbar()\n",
        "    tick_marks = np.arange(len(classes))\n",
        "    plt.xticks(tick_marks, classes, rotation=90)\n",
        "    plt.yticks(tick_marks, classes)\n",
        "    if normalize:\n",
        "        cm = cm.astype('float') / cm.sum(axis=1)[:, np.newaxis]\n",
        "\n",
        "    thresh = cm.max() / 2.\n",
        "    for i, j in itertools.product(range(cm.shape[0]), range(cm.shape[1])):\n",
        "        plt.text(j, i, cm[i, j],\n",
        "                 horizontalalignment=\"center\",\n",
        "                 color=\"white\" if cm[i, j] > thresh else \"black\")\n",
        "    plt.tight_layout()\n",
        "    plt.ylabel('True label')\n",
        "    plt.xlabel('Predicted label')\n",
        "\n",
        "y_pred = model.predict(xtest)\n",
        "print('\\n', sklearn.metrics.classification_report(np.where(ytest > 0)[1], np.argmax(y_pred, axis=1), target_names=list(num2losses.values())), sep='') \n",
        "Y_pred_classes = np.argmax(y_pred,axis = 1) \n",
        "Y_true = np.argmax(ytest,axis = 1) \n",
        "confusion_mtx = confusion_matrix(Y_true, Y_pred_classes) \n",
        "\n",
        "plot_confusion_matrix(confusion_mtx, classes = list(num2losses.values()))\n",
        "plt.show()"
      ],
      "execution_count": 67,
      "outputs": [
        {
          "output_type": "stream",
          "text": [
            "x shape: (2000, 128, 128, 3)\n",
            "y shape: (2000, 4)\n",
            "\n",
            "              precision    recall  f1-score   support\n",
            "\n",
            "         CNV       0.92      1.00      0.96       504\n",
            "         DME       1.00      0.93      0.97       491\n",
            "      DRUSEN       1.00      0.89      0.94       498\n",
            "      NORMAL       0.93      1.00      0.96       507\n",
            "\n",
            "    accuracy                           0.96      2000\n",
            "   macro avg       0.96      0.96      0.96      2000\n",
            "weighted avg       0.96      0.96      0.96      2000\n",
            "\n"
          ],
          "name": "stdout"
        },
        {
          "output_type": "display_data",
          "data": {
            "image/png": "[encoded data removed]",
            "text/plain": [
              "<Figure size 360x360 with 2 Axes>"
            ]
          },
          "metadata": {
            "tags": []
          }
        }
      ]
    }
  ]
}