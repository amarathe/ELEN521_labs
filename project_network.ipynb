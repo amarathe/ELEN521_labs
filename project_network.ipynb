{
  "nbformat": 4,
  "nbformat_minor": 0,
  "metadata": {
    "kernelspec": {
      "name": "python3",
      "display_name": "Python 3"
    },
    "language_info": {
      "codemirror_mode": {
        "name": "ipython",
        "version": 3
      },
      "file_extension": ".py",
      "mimetype": "text/x-python",
      "name": "python",
      "nbconvert_exporter": "python",
      "pygments_lexer": "ipython3",
      "version": "3.6.10"
    },
    "colab": {
      "name": "project_network.ipynb",
      "provenance": [],
      "collapsed_sections": [],
      "include_colab_link": true
    },
    "accelerator": "GPU"
  },
  "cells": [
    {
      "cell_type": "markdown",
      "metadata": {
        "id": "view-in-github",
        "colab_type": "text"
      },
      "source": [
        "<a href=\"https://colab.research.google.com/github/amarathe/ELEN521_labs/blob/master/project_network.ipynb\" target=\"_parent\"><img src=\"https://colab.research.google.com/assets/colab-badge.svg\" alt=\"Open In Colab\"/></a>"
      ]
    },
    {
      "cell_type": "markdown",
      "metadata": {
        "id": "PLOdTLE7y9_X",
        "colab_type": "text"
      },
      "source": [
        "# Project: Retinal OCT Images recognition\n",
        "# Sharanjeet Singh, Ashwin Marathe\n",
        "Classify images of retina\n",
        "4 categories: \n",
        "    CNV - Choroidal neovascularization\n",
        "    DME -  Diabetic macular edema \n",
        "    DRUSEN - Multiple drusen\n",
        "    NORMAL - Normal retina\n",
        "\n",
        "84,000 images in dataset\n",
        "    \n",
        "https://www.kaggle.com/paultimothymooney/kermany2018/data#CNV-1016042-2.jpeg"
      ]
    },
    {
      "cell_type": "code",
      "metadata": {
        "id": "5gFuv9iV1ttb",
        "colab_type": "code",
        "outputId": "2d0308ba-99d0-41dc-9ded-035c2dfab236",
        "colab": {
          "resources": {
            "http://localhost:8080/nbextensions/google.colab/files.js": {
              "data": "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",
              "ok": true,
              "headers": [
                [
                  "content-type",
                  "application/javascript"
                ]
              ],
              "status": 200,
              "status_text": ""
            }
          },
          "base_uri": "https://localhost:8080/",
          "height": 253
        }
      },
      "source": [
        "from keras.layers import *\n",
        "from keras.models import Model\n",
        "from keras.optimizers import *\n",
        "from keras.preprocessing.image import ImageDataGenerator\n",
        "from IPython.display import Image\n",
        "import pandas as pd\n",
        "import os.path\n",
        "from os import path\n",
        "import glob, os\n",
        "import random\n",
        "\n",
        "BATCHSIZE = 64\n",
        "NSAMPLES = 75000\n",
        "\n",
        "#Instructions for getting dataset from kaggle:\n",
        "# https://medium.com/@saedhussain/google-colaboratory-and-kaggle-datasets-b57a83eb6ef8\n",
        "from google.colab import files\n",
        "!pip install -q kaggle\n",
        "#Upload your kaggle.json API file\n",
        "\n",
        "if not path.exists(\"/root/.kaggle/kaggle.json\"): \n",
        "  firsttime = True\n",
        "  uploaded = files.upload()\n",
        "  !mkdir ~/.kaggle\n",
        "  !mv kaggle.json ~/.kaggle/kaggle.json\n",
        "  !ls -halt ~/.kaggle\n",
        "  !chmod 600 ~/.kaggle/kaggle.json\n",
        "\n",
        "\n",
        "!kaggle datasets download -d paultimothymooney/kermany2018\n",
        "\n",
        "\n",
        "\n",
        "\n"
      ],
      "execution_count": 1,
      "outputs": [
        {
          "output_type": "stream",
          "text": [
            "Using TensorFlow backend.\n"
          ],
          "name": "stderr"
        },
        {
          "output_type": "display_data",
          "data": {
            "text/html": [
              "<p style=\"color: red;\">\n",
              "The default version of TensorFlow in Colab will soon switch to TensorFlow 2.x.<br>\n",
              "We recommend you <a href=\"https://www.tensorflow.org/guide/migrate\" target=\"_blank\">upgrade</a> now \n",
              "or ensure your notebook will continue to use TensorFlow 1.x via the <code>%tensorflow_version 1.x</code> magic:\n",
              "<a href=\"https://colab.research.google.com/notebooks/tensorflow_version.ipynb\" target=\"_blank\">more info</a>.</p>\n"
            ],
            "text/plain": [
              "<IPython.core.display.HTML object>"
            ]
          },
          "metadata": {
            "tags": []
          }
        },
        {
          "output_type": "display_data",
          "data": {
            "text/html": [
              "\n",
              "     <input type=\"file\" id=\"files-aa6c5ab4-1c4f-445f-9a02-15625dbe00e8\" name=\"files[]\" multiple disabled />\n",
              "     <output id=\"result-aa6c5ab4-1c4f-445f-9a02-15625dbe00e8\">\n",
              "      Upload widget is only available when the cell has been executed in the\n",
              "      current browser session. Please rerun this cell to enable.\n",
              "      </output>\n",
              "      <script src=\"/nbextensions/google.colab/files.js\"></script> "
            ],
            "text/plain": [
              "<IPython.core.display.HTML object>"
            ]
          },
          "metadata": {
            "tags": []
          }
        },
        {
          "output_type": "stream",
          "text": [
            "Saving kaggle.json to kaggle.json\n",
            "total 16K\n",
            "drwxr-xr-x 2 root root 4.0K Mar 18 23:36 .\n",
            "drwx------ 1 root root 4.0K Mar 18 23:36 ..\n",
            "-rw-r--r-- 1 root root   64 Mar 18 23:36 kaggle.json\n",
            "Downloading kermany2018.zip to /content\n",
            "100% 10.8G/10.8G [04:23<00:00, 71.6MB/s]\n",
            "100% 10.8G/10.8G [04:23<00:00, 44.2MB/s]\n"
          ],
          "name": "stdout"
        }
      ]
    },
    {
      "cell_type": "code",
      "metadata": {
        "id": "x4ltEwb6y9_a",
        "colab_type": "code",
        "colab": {}
      },
      "source": [
        "%matplotlib inline\n",
        "\n",
        "\n",
        "import zipfile\n",
        "if not path.exists(\"kermany2018\"):\n",
        "  with zipfile.ZipFile(\"kermany2018.zip\",\"r\") as zip_ref:\n",
        "    zip_ref.extractall(\"kermany2018\")\n",
        "\n",
        "#!ls kermany2018/OCT2017\\ /train/CNV/ | more\n",
        "#If first time, partition 5% validation data from training data\n",
        "if firsttime:\n",
        "  os.system(\"mv kermany2018/OCT2017\\ /val/ kermany2018/OCT2017\\ /backup_val/\" )\n",
        "  os.system(\"mkdir kermany2018/OCT2017\\ /val\")\n",
        "  for label in [\"CNV\", \"DME\", \"DRUSEN\", \"NORMAL\"]:\n",
        "    files = list(glob.glob(\"kermany2018/OCT2017 /train/\" + label + \"/*.jpeg\"))\n",
        "    random.shuffle(files)\n",
        "    #print (\"glob:\", glob.glob(\"kermany2018/OCT2017 /train/\" + label + \"/*.jpeg\"))\n",
        "    #print (\"files:\", files)\n",
        "    train_files, val_files = files[:int(len(files)*0.95)], files[int(len(files)*0.95):]\n",
        "    os.system(\"mkdir kermany2018/OCT2017\\ /val/\"+label+\"/\")\n",
        "    for file in val_files:\n",
        "      #print (\"Moving file:\", file, \"to: kermany2018/OCT2017\\ /val/\" + label + \"/\")\n",
        "      os.system(\"mv \" + file.replace(\" \", \"\\ \") + \" kermany2018/OCT2017\\ /val/\" + label + \"/\")\n",
        "  firsttime = False\n",
        "\n",
        "#!ls \"kermany2018/OCT2017 \"\n",
        "train_datagen = ImageDataGenerator(rescale=1./256)\n",
        "#valid_datagen = ImageDataGenerator(rescale=1./256)\n",
        "test_datagen = ImageDataGenerator(rescale=1./256)\n",
        "\n",
        "\n"
      ],
      "execution_count": 0,
      "outputs": []
    },
    {
      "cell_type": "code",
      "metadata": {
        "id": "jUwmDxJgMN6M",
        "colab_type": "code",
        "outputId": "29a625b8-1822-44a3-dbcf-cb57025b8df3",
        "colab": {
          "base_uri": "https://localhost:8080/",
          "height": 68
        }
      },
      "source": [
        "# load and iterate training dataset\n",
        "train_generator = train_datagen.flow_from_directory('kermany2018/OCT2017 /train/', class_mode='categorical', \n",
        "                                             target_size=(512,512), batch_size=BATCHSIZE)\n",
        "\n",
        "#Only 32 images in validation dataset - too small. Use test train split from train dataset\n",
        "# load and iterate validation dataset\n",
        "#valid_generator = valid_datagen.flow_from_directory('kermany2018/OCT2017 /val/', class_mode='categorical', \n",
        "#                                           target_size=(512,512), batch_size=BATCHSIZE)\n",
        "valid_generator = train_datagen.flow_from_directory('kermany2018/OCT2017 /val/', class_mode='categorical', \n",
        "                                             target_size=(512,512), batch_size=BATCHSIZE)\n",
        "# load and iterate test dataset\n",
        "test_generator = test_datagen.flow_from_directory('kermany2018/OCT2017 /test/', class_mode='categorical', \n",
        "                                           target_size=(512,512), batch_size=BATCHSIZE)\n",
        "\n",
        "#traindf = pd.read_csv('kermany2018.zip')"
      ],
      "execution_count": 3,
      "outputs": [
        {
          "output_type": "stream",
          "text": [
            "Found 79308 images belonging to 4 classes.\n",
            "Found 4176 images belonging to 4 classes.\n",
            "Found 968 images belonging to 4 classes.\n"
          ],
          "name": "stdout"
        }
      ]
    },
    {
      "cell_type": "code",
      "metadata": {
        "id": "_liWkEaJ_V-a",
        "colab_type": "code",
        "outputId": "a5901e7f-7e68-4b26-830c-d06b44b8cddc",
        "colab": {
          "base_uri": "https://localhost:8080/",
          "height": 51
        }
      },
      "source": [
        "!ls kermany2018/OCT2017\\ /val/NORMAL/ | wc -l\n",
        "!ls kermany2018/OCT2017\\ /train/NORMAL/ | wc -l\n"
      ],
      "execution_count": 4,
      "outputs": [
        {
          "output_type": "stream",
          "text": [
            "1316\n",
            "24999\n"
          ],
          "name": "stdout"
        }
      ]
    },
    {
      "cell_type": "code",
      "metadata": {
        "id": "kVnRUYV88Lrn",
        "colab_type": "code",
        "colab": {}
      },
      "source": [
        "#for label in [\"CNV\", \"DME\", \"DRUSEN\", \"NORMAL\"]:\n",
        "\n",
        "#  files = list(glob.glob(\"kermany2018/OCT2017 /train/\" + label + \"/*.jpeg\"))\n",
        "#  random.shuffle(files)\n",
        "#  #print (\"glob:\", glob.glob(\"kermany2018/OCT2017 /train/\" + label + \"/*.jpeg\"))\n",
        "#  #print (\"files:\", files)\n",
        "#  train_files, val_files = files[:int(len(files)*0.95)], files[int(len(files)*0.95):]\n",
        "#  os.system(\"mkdir kermany2018/OCT2017\\ /val/\"+label+\"/\")\n",
        "#  for file in val_files:\n",
        "#    print (\"Moving file:\", file, \"to: kermany2018/OCT2017\\ /val/\" + label + \"/\")\n",
        "#    os.system(\"mv \" + file.replace(\" \", \"\\ \") + \" kermany2018/OCT2017\\ /val/\" + label + \"/\")"
      ],
      "execution_count": 0,
      "outputs": []
    },
    {
      "cell_type": "code",
      "metadata": {
        "id": "vSL42fIxISIa",
        "colab_type": "code",
        "colab": {}
      },
      "source": [
        "#Returns model and model before last activation (for debug)\n",
        "def get_model():\n",
        "    x = x_in = Input((512,512,3), name=\"input\")\n",
        "    x = Conv2D(8, (3,3), padding=\"same\",  name=\"fe0\")(x)\n",
        "    x = Activation(\"relu\", name=\"r0\")(x)\n",
        "    x = MaxPooling2D(2,2,name=\"mp0\")(x)\n",
        "    x = BatchNormalization(name=\"bn1\")(x)\n",
        "    x = Conv2D(16, (3,3), padding=\"same\", name=\"fe1\")(x)\n",
        "    x = Activation(\"relu\", name=\"r1\")(x)\n",
        " #   x = MaxPooling2D(2,2,name=\"mp1\")(x)\n",
        "    x = BatchNormalization(name=\"bn2\")(x)\n",
        "    x = Conv2D(16, (3,3), padding=\"same\", name=\"fe2\")(x)\n",
        "    x = Activation(\"relu\", name=\"r2\")(x)\n",
        "    x = MaxPooling2D(2,2,name=\"mp2\")(x)\n",
        "    x = BatchNormalization(name=\"bn3\")(x)\n",
        "    x = Conv2D(32, (3,3), padding=\"same\", name=\"fe3\")(x)\n",
        "    x = Activation(\"relu\", name=\"r3\")(x)\n",
        "    x = BatchNormalization(name=\"bn4\")(x)\n",
        "    x = Conv2D(32, (3,3), padding=\"same\", name=\"fe4\")(x)\n",
        "    x = Activation(\"relu\", name=\"r4\")(x)\n",
        "    x = MaxPooling2D(2,2,name=\"mp3\")(x)   \n",
        "    x = Dropout(0.5, name=\"d0\")(x)\n",
        "    x = Flatten(name=\"fl\")(x)\n",
        "    #x = Dense(64, name=\"d0\", activation=\"relu\")(x)\n",
        "    x = Dense(4, name=\"d1\")(x)\n",
        "    x = x_int = Activation(\"softmax\", name=\"s1\")(x)\n",
        "    m = Model(inputs=x_in, outputs=x)\n",
        "    m_int = Model(inputs=x_in, outputs=x_int)\n",
        "    m.summary()\n",
        "    return m, m_int\n"
      ],
      "execution_count": 0,
      "outputs": []
    },
    {
      "cell_type": "code",
      "metadata": {
        "id": "Nle43bsmJxdR",
        "colab_type": "code",
        "outputId": "abe3eb8e-0c35-42d0-ce42-94a608b7c6c7",
        "colab": {
          "base_uri": "https://localhost:8080/",
          "height": 1000
        }
      },
      "source": [
        "model, model_int = get_model()\n",
        "adam = Adam(lr=0.0001)\n",
        "model.compile(loss=\"categorical_crossentropy\", optimizer=adam, metrics=[\"acc\"])\n",
        "\n",
        "result = model.evaluate_generator(test_generator)\n",
        "print (\"Test results with random weights - should be 25%: Accuracy\", result[1])\n",
        "print (\"\\t Loss:\", result[0])\n",
        "\n",
        "NUM_EPOCHS = 20\n",
        "\n",
        "history = model.fit_generator(\n",
        "    train_generator,\n",
        "    steps_per_epoch=NSAMPLES//BATCHSIZE, # number of times it executes until it declares epoch is over.\n",
        "    epochs=NUM_EPOCHS,\n",
        "    validation_data=valid_generator,\n",
        "    validation_steps=NSAMPLES//(4*BATCHSIZE))"
      ],
      "execution_count": 0,
      "outputs": [
        {
          "output_type": "stream",
          "text": [
            "WARNING:tensorflow:From /usr/local/lib/python3.6/dist-packages/keras/backend/tensorflow_backend.py:541: The name tf.placeholder is deprecated. Please use tf.compat.v1.placeholder instead.\n",
            "\n",
            "WARNING:tensorflow:From /usr/local/lib/python3.6/dist-packages/keras/backend/tensorflow_backend.py:4432: The name tf.random_uniform is deprecated. Please use tf.random.uniform instead.\n",
            "\n",
            "WARNING:tensorflow:From /usr/local/lib/python3.6/dist-packages/keras/backend/tensorflow_backend.py:4267: The name tf.nn.max_pool is deprecated. Please use tf.nn.max_pool2d instead.\n",
            "\n",
            "WARNING:tensorflow:From /usr/local/lib/python3.6/dist-packages/keras/backend/tensorflow_backend.py:66: The name tf.get_default_graph is deprecated. Please use tf.compat.v1.get_default_graph instead.\n",
            "\n",
            "WARNING:tensorflow:From /usr/local/lib/python3.6/dist-packages/keras/backend/tensorflow_backend.py:190: The name tf.get_default_session is deprecated. Please use tf.compat.v1.get_default_session instead.\n",
            "\n",
            "WARNING:tensorflow:From /usr/local/lib/python3.6/dist-packages/keras/backend/tensorflow_backend.py:197: The name tf.ConfigProto is deprecated. Please use tf.compat.v1.ConfigProto instead.\n",
            "\n",
            "WARNING:tensorflow:From /usr/local/lib/python3.6/dist-packages/keras/backend/tensorflow_backend.py:203: The name tf.Session is deprecated. Please use tf.compat.v1.Session instead.\n",
            "\n",
            "WARNING:tensorflow:From /usr/local/lib/python3.6/dist-packages/keras/backend/tensorflow_backend.py:207: The name tf.global_variables is deprecated. Please use tf.compat.v1.global_variables instead.\n",
            "\n",
            "WARNING:tensorflow:From /usr/local/lib/python3.6/dist-packages/keras/backend/tensorflow_backend.py:216: The name tf.is_variable_initialized is deprecated. Please use tf.compat.v1.is_variable_initialized instead.\n",
            "\n",
            "WARNING:tensorflow:From /usr/local/lib/python3.6/dist-packages/keras/backend/tensorflow_backend.py:223: The name tf.variables_initializer is deprecated. Please use tf.compat.v1.variables_initializer instead.\n",
            "\n",
            "WARNING:tensorflow:From /usr/local/lib/python3.6/dist-packages/keras/backend/tensorflow_backend.py:2041: The name tf.nn.fused_batch_norm is deprecated. Please use tf.compat.v1.nn.fused_batch_norm instead.\n",
            "\n",
            "WARNING:tensorflow:From /usr/local/lib/python3.6/dist-packages/keras/backend/tensorflow_backend.py:148: The name tf.placeholder_with_default is deprecated. Please use tf.compat.v1.placeholder_with_default instead.\n",
            "\n",
            "WARNING:tensorflow:From /usr/local/lib/python3.6/dist-packages/keras/backend/tensorflow_backend.py:3733: calling dropout (from tensorflow.python.ops.nn_ops) with keep_prob is deprecated and will be removed in a future version.\n",
            "Instructions for updating:\n",
            "Please use `rate` instead of `keep_prob`. Rate should be set to `rate = 1 - keep_prob`.\n",
            "Model: \"model_1\"\n",
            "_________________________________________________________________\n",
            "Layer (type)                 Output Shape              Param #   \n",
            "=================================================================\n",
            "input (InputLayer)           (None, 512, 512, 3)       0         \n",
            "_________________________________________________________________\n",
            "fe0 (Conv2D)                 (None, 512, 512, 8)       224       \n",
            "_________________________________________________________________\n",
            "r0 (Activation)              (None, 512, 512, 8)       0         \n",
            "_________________________________________________________________\n",
            "mp0 (MaxPooling2D)           (None, 256, 256, 8)       0         \n",
            "_________________________________________________________________\n",
            "bn1 (BatchNormalization)     (None, 256, 256, 8)       32        \n",
            "_________________________________________________________________\n",
            "fe1 (Conv2D)                 (None, 256, 256, 16)      1168      \n",
            "_________________________________________________________________\n",
            "r1 (Activation)              (None, 256, 256, 16)      0         \n",
            "_________________________________________________________________\n",
            "bn2 (BatchNormalization)     (None, 256, 256, 16)      64        \n",
            "_________________________________________________________________\n",
            "fe2 (Conv2D)                 (None, 256, 256, 16)      2320      \n",
            "_________________________________________________________________\n",
            "r2 (Activation)              (None, 256, 256, 16)      0         \n",
            "_________________________________________________________________\n",
            "mp2 (MaxPooling2D)           (None, 128, 128, 16)      0         \n",
            "_________________________________________________________________\n",
            "bn3 (BatchNormalization)     (None, 128, 128, 16)      64        \n",
            "_________________________________________________________________\n",
            "fe3 (Conv2D)                 (None, 128, 128, 32)      4640      \n",
            "_________________________________________________________________\n",
            "r3 (Activation)              (None, 128, 128, 32)      0         \n",
            "_________________________________________________________________\n",
            "bn4 (BatchNormalization)     (None, 128, 128, 32)      128       \n",
            "_________________________________________________________________\n",
            "fe4 (Conv2D)                 (None, 128, 128, 32)      9248      \n",
            "_________________________________________________________________\n",
            "r4 (Activation)              (None, 128, 128, 32)      0         \n",
            "_________________________________________________________________\n",
            "mp3 (MaxPooling2D)           (None, 64, 64, 32)        0         \n",
            "_________________________________________________________________\n",
            "d0 (Dropout)                 (None, 64, 64, 32)        0         \n",
            "_________________________________________________________________\n",
            "fl (Flatten)                 (None, 131072)            0         \n",
            "_________________________________________________________________\n",
            "d1 (Dense)                   (None, 4)                 524292    \n",
            "_________________________________________________________________\n",
            "s1 (Activation)              (None, 4)                 0         \n",
            "=================================================================\n",
            "Total params: 542,180\n",
            "Trainable params: 542,036\n",
            "Non-trainable params: 144\n",
            "_________________________________________________________________\n",
            "WARNING:tensorflow:From /usr/local/lib/python3.6/dist-packages/keras/optimizers.py:793: The name tf.train.Optimizer is deprecated. Please use tf.compat.v1.train.Optimizer instead.\n",
            "\n",
            "WARNING:tensorflow:From /usr/local/lib/python3.6/dist-packages/keras/backend/tensorflow_backend.py:3576: The name tf.log is deprecated. Please use tf.math.log instead.\n",
            "\n",
            "Test results with random weights - should be 25%: Accuracy 0.24793388429752067\n",
            "\t Loss: 1.3862110130057848\n",
            "WARNING:tensorflow:From /tensorflow-1.15.0/python3.6/tensorflow_core/python/ops/math_grad.py:1424: where (from tensorflow.python.ops.array_ops) is deprecated and will be removed in a future version.\n",
            "Instructions for updating:\n",
            "Use tf.where in 2.0, which has the same broadcast rule as np.where\n",
            "WARNING:tensorflow:From /usr/local/lib/python3.6/dist-packages/keras/backend/tensorflow_backend.py:1033: The name tf.assign_add is deprecated. Please use tf.compat.v1.assign_add instead.\n",
            "\n",
            "WARNING:tensorflow:From /usr/local/lib/python3.6/dist-packages/keras/backend/tensorflow_backend.py:1020: The name tf.assign is deprecated. Please use tf.compat.v1.assign instead.\n",
            "\n",
            "Epoch 1/20\n",
            "1171/1171 [==============================] - 771s 659ms/step - loss: 1.1682 - acc: 0.6258 - val_loss: 0.6331 - val_acc: 0.7644\n",
            "Epoch 2/20\n",
            " 300/1171 [======>.......................] - ETA: 7:48 - loss: 0.6135 - acc: 0.7734"
          ],
          "name": "stdout"
        }
      ]
    },
    {
      "cell_type": "code",
      "metadata": {
        "id": "bS2fCNFMUy1C",
        "colab_type": "code",
        "colab": {}
      },
      "source": [
        "#for data_batch, labels_batch in train_generator:\n",
        "#  prediction = model.predict(data_batch)\n",
        "#  print (\"Prediction:\", prediction)\n",
        "#  print (\"labels:\", labels_batch)\n",
        "#  break\n",
        "\n",
        "result = model.evaluate_generator(test_generator)\n",
        "print (\"Test results: Accuracy\", result[1])\n",
        "print (\"\\t Loss:\", result[0])\n"
      ],
      "execution_count": 0,
      "outputs": []
    },
    {
      "cell_type": "code",
      "metadata": {
        "id": "LQ0m1WOn8oBH",
        "colab_type": "code",
        "colab": {}
      },
      "source": [
        "import matplotlib.pyplot as plt\n",
        "def plothistory(history):\n",
        "  # Plot training & validation accuracy values\n",
        "  plt.plot(history.history['acc'])\n",
        "  plt.plot(history.history['val_acc'])\n",
        "  plt.title('Model accuracy')\n",
        "  plt.ylabel('Accuracy')\n",
        "  plt.xlabel('Epoch')\n",
        "  plt.legend(['Train', 'Val'], loc='upper left')\n",
        "  plt.show()\n",
        "\n",
        "# Plot training & validation loss values\n",
        "  plt.plot(history.history['loss'])\n",
        "  plt.plot(history.history['val_loss'])\n",
        "  plt.title('Model loss')\n",
        "  plt.ylabel('Loss')\n",
        "  plt.xlabel('Epoch')\n",
        "  plt.legend(['Train', 'Val'], loc='upper left')\n",
        "  plt.show()"
      ],
      "execution_count": 0,
      "outputs": []
    },
    {
      "cell_type": "code",
      "metadata": {
        "id": "Uctlqo0P8szr",
        "colab_type": "code",
        "colab": {}
      },
      "source": [
        "plothistory(history)"
      ],
      "execution_count": 0,
      "outputs": []
    },
    {
      "cell_type": "markdown",
      "metadata": {
        "id": "BcwrSHX4y9_g",
        "colab_type": "text"
      },
      "source": [
        "Use VGG16 and train last layer"
      ]
    },
    {
      "cell_type": "code",
      "metadata": {
        "id": "WJk6rex0bvq7",
        "colab_type": "code",
        "colab": {}
      },
      "source": [
        "# load and iterate training dataset\n",
        "train_generator = train_datagen.flow_from_directory('kermany2018/OCT2017 /train/', class_mode='categorical', \n",
        "                                             target_size=(32,32), batch_size=BATCHSIZE)\n",
        "\n",
        "#Only 32 images in validation dataset - too small. Use test train split from train dataset\n",
        "# load and iterate validation dataset\n",
        "#valid_generator = valid_datagen.flow_from_directory('kermany2018/OCT2017 /val/', class_mode='categorical', \n",
        "#                                           target_size=(512,512), batch_size=BATCHSIZE)\n",
        "valid_generator = train_datagen.flow_from_directory('kermany2018/OCT2017 /val/', class_mode='categorical', \n",
        "                                             target_size=(32,32), batch_size=BATCHSIZE)\n",
        "# load and iterate test dataset\n",
        "test_generator = test_datagen.flow_from_directory('kermany2018/OCT2017 /test/', class_mode='categorical', \n",
        "                                           target_size=(32,32), batch_size=BATCHSIZE)"
      ],
      "execution_count": 0,
      "outputs": []
    },
    {
      "cell_type": "code",
      "metadata": {
        "id": "8BNh7S7My-AO",
        "colab_type": "code",
        "colab": {}
      },
      "source": [
        "from keras.applications import VGG16\n",
        "\n",
        "vgg16 = VGG16(weights=\"imagenet\", include_top=False, input_shape=(150, 150, 3))\n",
        "vgg16.summary()\n",
        "\n",
        "for layer in vgg16.layers[:-4]:\n",
        "  layer.trainable=False\n",
        "\n",
        "for layer in vgg16.layers:\n",
        "  print (layer, layer.trainable)\n",
        "\n",
        "#x_i = Input((150, 150, 3), name=\"input\")\n",
        "x_i = Input((32,32,3), name=\"input\")\n",
        "x = vgg16(x_i)\n",
        "x = Flatten(name=\"fl\")(x)\n",
        "x = Dropout(0.5, name=\"d5\")(x)\n",
        "x = Dense(64, name=\"d1\", activation=\"relu\")(x)\n",
        "x = Dense(4, name=\"d2\", activation=\"softmax\")(x)\n",
        "\n",
        "model = Model(inputs=x_i, outputs=x)\n",
        "model.summary()\n",
        "\n",
        "#adam = Adam(lr=0.001)\n",
        "adam = Adam(lr=0.0001)\n",
        "\n",
        "model.compile(loss=\"binary_crossentropy\", optimizer=adam, metrics=[\"acc\"])\n",
        "\n",
        "NSAMPLES = 10000\n",
        "NUM_EPOCHS=5\n",
        "\n",
        "history = model.fit_generator(\n",
        "    train_generator,\n",
        "    steps_per_epoch=NSAMPLES//100, # number of times it executes until it declares epoch is over.\n",
        "    epochs=NUM_EPOCHS,\n",
        "    validation_data=valid_generator,\n",
        "    validation_steps=NSAMPLES//(2*100))"
      ],
      "execution_count": 0,
      "outputs": []
    },
    {
      "cell_type": "code",
      "metadata": {
        "id": "So8DalNPZQ5g",
        "colab_type": "code",
        "colab": {}
      },
      "source": [
        "result = model.evaluate_generator(test_generator)\n",
        "print (\"Test results: Accuracy\", result[1])\n",
        "print (\"\\t Loss:\", result[0])"
      ],
      "execution_count": 0,
      "outputs": []
    }
  ]
}